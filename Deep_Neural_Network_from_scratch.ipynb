{
  "nbformat": 4,
  "nbformat_minor": 0,
  "metadata": {
    "colab": {
      "name": "Deep_Neural_Network_from_scratch.ipynb",
      "provenance": [],
      "collapsed_sections": [],
      "authorship_tag": "ABX9TyM6CPHTcXVrGvCYK4S/7Jle",
      "include_colab_link": true
    },
    "kernelspec": {
      "name": "python3",
      "display_name": "Python 3"
    }
  },
  "cells": [
    {
      "cell_type": "markdown",
      "metadata": {
        "id": "view-in-github",
        "colab_type": "text"
      },
      "source": [
        "<a href=\"https://colab.research.google.com/github/SethurajS/DeepLearning_Snippets/blob/master/Deep_Neural_Network_from_scratch.ipynb\" target=\"_parent\"><img src=\"https://colab.research.google.com/assets/colab-badge.svg\" alt=\"Open In Colab\"/></a>"
      ]
    },
    {
      "cell_type": "markdown",
      "metadata": {
        "id": "h6XUUheGLKKT",
        "colab_type": "text"
      },
      "source": [
        "# **............DEEP NEURAL NETWORK STEP BY STEP.............**"
      ]
    },
    {
      "cell_type": "markdown",
      "metadata": {
        "id": "s7PvyZC1BDLc",
        "colab_type": "text"
      },
      "source": [
        "# **IMPORTING THE REQUIREMNTS**"
      ]
    },
    {
      "cell_type": "code",
      "metadata": {
        "id": "-a6t1lPsLKTr",
        "colab_type": "code",
        "outputId": "d0a419d1-4959-4ddc-dbdf-09c9ba60cb9d",
        "colab": {
          "base_uri": "https://localhost:8080/",
          "height": 34
        }
      },
      "source": [
        "import numpy as np\n",
        "import matplotlib.pyplot as plt\n",
        "\n",
        "print(\"Numpy : {}\".format(np.__version__))"
      ],
      "execution_count": 2,
      "outputs": [
        {
          "output_type": "stream",
          "text": [
            "Numpy : 1.18.4\n"
          ],
          "name": "stdout"
        }
      ]
    },
    {
      "cell_type": "markdown",
      "metadata": {
        "id": "bNSn1wY3L-ZO",
        "colab_type": "text"
      },
      "source": [
        "# **INITIALIZING THE PARAMETERS**"
      ]
    },
    {
      "cell_type": "code",
      "metadata": {
        "id": "yKv4kOsML-eG",
        "colab_type": "code",
        "colab": {}
      },
      "source": [
        "def initialize_parameters(layer_dims):\n",
        "\n",
        "  np.random.seed(3)\n",
        "  parameters = {}\n",
        "  L = len(layer_dims)\n",
        "\n",
        "  for l in range(1, L):\n",
        "\n",
        "    parameters[\"W\" + str(l)] = np.random.randn(layer_dims[l], layer_dims[l-1]) * 0.01\n",
        "    parameters[\"b\" + str(l)] = np.zeros((layer_dims[l], 1))\n",
        "\n",
        "    assert(parameters[\"W\" + str(l)].shape == (layer_dims[l], layer_dims[l-1]))\n",
        "    assert(parameters[\"b\" + str(l)].shape == (layer_dims[l], 1))\n",
        "\n",
        "  return parameters"
      ],
      "execution_count": 0,
      "outputs": []
    },
    {
      "cell_type": "markdown",
      "metadata": {
        "id": "GwKXPYUrOV9y",
        "colab_type": "text"
      },
      "source": [
        "# **ACTIVATION FUNCTIONS FORWARD**"
      ]
    },
    {
      "cell_type": "markdown",
      "metadata": {
        "id": "9HB4fR_NOjfa",
        "colab_type": "text"
      },
      "source": [
        "**SIGMOID ACTIVATION FUNCTION**"
      ]
    },
    {
      "cell_type": "code",
      "metadata": {
        "id": "HRmgCrboOWJS",
        "colab_type": "code",
        "colab": {}
      },
      "source": [
        "def sigmoid(Z):\n",
        "    \n",
        "    A = 1/(1+np.exp(-Z))\n",
        "    cache = Z\n",
        "    \n",
        "    return A, cache"
      ],
      "execution_count": 0,
      "outputs": []
    },
    {
      "cell_type": "markdown",
      "metadata": {
        "id": "KabrBWw3OqBJ",
        "colab_type": "text"
      },
      "source": [
        "**RELU ACTIVATION FUNCTION**"
      ]
    },
    {
      "cell_type": "code",
      "metadata": {
        "id": "26q_rTXLOqGy",
        "colab_type": "code",
        "colab": {}
      },
      "source": [
        "def relu(Z):\n",
        "\n",
        "    A = np.maximum(0,Z)  \n",
        "    cache = Z\n",
        "     \n",
        "    return A, cache"
      ],
      "execution_count": 0,
      "outputs": []
    },
    {
      "cell_type": "markdown",
      "metadata": {
        "id": "agUyqF3OODCC",
        "colab_type": "text"
      },
      "source": [
        "# **FORWARD PROPAGATION**"
      ]
    },
    {
      "cell_type": "markdown",
      "metadata": {
        "id": "mrlsoH9qONmR",
        "colab_type": "text"
      },
      "source": [
        "**LINEAR FORWARD**"
      ]
    },
    {
      "cell_type": "code",
      "metadata": {
        "id": "qNFOnXndOFlP",
        "colab_type": "code",
        "colab": {}
      },
      "source": [
        "def linear_forward(A, w, b):\n",
        "\n",
        "  Z = np.dot(W, A) + b\n",
        "\n",
        "  assert(Z.shape == (W.shape[0], A.shape[1]))\n",
        "  cache = (A, W, b)\n",
        "\n",
        "  return Z, cache"
      ],
      "execution_count": 0,
      "outputs": []
    },
    {
      "cell_type": "markdown",
      "metadata": {
        "id": "d9puJbmc4C70",
        "colab_type": "text"
      },
      "source": [
        "**LINEAR ACTIVATION FORWARD**"
      ]
    },
    {
      "cell_type": "code",
      "metadata": {
        "id": "Tyjox1-632BO",
        "colab_type": "code",
        "colab": {}
      },
      "source": [
        "def linear_activation_forward(A_prev, W, b, activation):\n",
        "\n",
        "  if activation == 'sigmoid':\n",
        "    Z, linear_cache = linear_forward(A_prev, W, b)\n",
        "    A, activation_cache = sigmoid(Z)\n",
        "\n",
        "  elif activation == 'relu':\n",
        "    Z, linear_cache = linear_forward(A_prev, W, b)\n",
        "    A, activation_cache = relu(Z)\n",
        "\n",
        "  assert(A.shape == (W.shape[0], A_prev.shape[1]))\n",
        "  cache = (linear_cache, activation_cache)\n",
        "\n",
        "  return A, cache\n"
      ],
      "execution_count": 0,
      "outputs": []
    },
    {
      "cell_type": "code",
      "metadata": {
        "id": "BzPiOb5g5Jrr",
        "colab_type": "code",
        "colab": {}
      },
      "source": [
        "def model_forward(X, parameters):\n",
        "\n",
        "  caches = []\n",
        "  A = X\n",
        "  L = len(parameters) // 2\n",
        "\n",
        "  for l in range(1, L):\n",
        "    A_prev = A\n",
        "\n",
        "    A, cache = linear_activation_forward(A_prev, parameters[\"W\" + str(l)], parameters[\"b\" + str(l)], activation=\"relu\")\n",
        "    caches.append(cache)\n",
        "\n",
        "  AL, cache = linear_activation_forward(A, parameters[\"W\" + str(L)], parameters[\"b\" + str(L)], activation=\"sigmoid\")\n",
        "  caches.append(cache)\n",
        "\n",
        "  assert(AL.shape == (1,X.shape[1]))\n",
        "            \n",
        "  return AL, caches"
      ],
      "execution_count": 0,
      "outputs": []
    },
    {
      "cell_type": "markdown",
      "metadata": {
        "id": "K2UntR767Zhr",
        "colab_type": "text"
      },
      "source": [
        "# **COST FUNCTION**"
      ]
    },
    {
      "cell_type": "code",
      "metadata": {
        "id": "8TovQSrr7FVS",
        "colab_type": "code",
        "colab": {}
      },
      "source": [
        "def compute_cost(AL, Y):\n",
        "\n",
        "  m = Y.shape[1]\n",
        "\n",
        "  cost = -1 * np.mean(np.multiply(Y, np.log(AL)) + np.multiply(1-Y, np.log(1-AL)))\n",
        "  cost = np.squeeze(cost)\n",
        "  assert(cost.shape == ())\n",
        "\n",
        "  return cost"
      ],
      "execution_count": 0,
      "outputs": []
    },
    {
      "cell_type": "markdown",
      "metadata": {
        "id": "26fOPycG-O_9",
        "colab_type": "text"
      },
      "source": [
        "# **ACTIVATION FUNCTION BACKWARD**"
      ]
    },
    {
      "cell_type": "markdown",
      "metadata": {
        "id": "Dbmb59YT-XeS",
        "colab_type": "text"
      },
      "source": [
        "**SIGMOID ACTIVATION BACKWARD**"
      ]
    },
    {
      "cell_type": "code",
      "metadata": {
        "id": "212ZoreV-Tmr",
        "colab_type": "code",
        "colab": {}
      },
      "source": [
        "def sigmoid_backward(dA, cache):\n",
        "\n",
        "  Z = cache\n",
        "\n",
        "  s = 1/(1+np.exp(-Z))\n",
        "  dZ = dA * s * (1-s)\n",
        "\n",
        "  assert (dZ.shape == Z.shape)  \n",
        "  \n",
        "  return dZ\n"
      ],
      "execution_count": 0,
      "outputs": []
    },
    {
      "cell_type": "markdown",
      "metadata": {
        "id": "kZQkcP1s-918",
        "colab_type": "text"
      },
      "source": [
        "**RELU ACTIVATION BACKWARD**"
      ]
    },
    {
      "cell_type": "code",
      "metadata": {
        "id": "ent1Yip5-96l",
        "colab_type": "code",
        "colab": {}
      },
      "source": [
        "def relu_backward(dA, cache):\n",
        "\n",
        "  Z = cache\n",
        "  dZ = np.array(dA, copy=True)\n",
        "\n",
        "  dZ[Z <= 0] = 0\n",
        "\n",
        "  assert (dZ.shape == Z.shape)\n",
        "    \n",
        "  return dZ"
      ],
      "execution_count": 0,
      "outputs": []
    },
    {
      "cell_type": "markdown",
      "metadata": {
        "id": "8FwcIK_C7-Pa",
        "colab_type": "text"
      },
      "source": [
        "# **BACKWARD PROPAGATION**"
      ]
    },
    {
      "cell_type": "markdown",
      "metadata": {
        "id": "j6HOChPx9bW0",
        "colab_type": "text"
      },
      "source": [
        "**LINEAR BACKWARD**"
      ]
    },
    {
      "cell_type": "code",
      "metadata": {
        "id": "OaNogQOw71CW",
        "colab_type": "code",
        "colab": {}
      },
      "source": [
        "def linear_backward(dZ, cache):\n",
        "\n",
        "  A_prev, W, b = cache\n",
        "  m = A_prev.shape[1]\n",
        "\n",
        "  dW = np.dot(dZ, A_prev.T) / m\n",
        "  db = np.mean(dZ, axis=1, keepdims=True)\n",
        "  dA_prev = np.dot(W.T, dZ)\n",
        "\n",
        "  assert (dA_prev.shape == A_prev.shape)\n",
        "  assert (dW.shape == W.shape)\n",
        "  assert (db.shape == b.shape)\n",
        "  return dA_prev, dW, db \n"
      ],
      "execution_count": 0,
      "outputs": []
    },
    {
      "cell_type": "markdown",
      "metadata": {
        "id": "9aHlYSDK8sez",
        "colab_type": "text"
      },
      "source": [
        "**LINEAR ACTIVATION BACKWARD**"
      ]
    },
    {
      "cell_type": "code",
      "metadata": {
        "id": "vSWBPIRW9tJH",
        "colab_type": "code",
        "colab": {}
      },
      "source": [
        "def linear_activation_backward(dA, cache, activation):\n",
        "\n",
        "  linear_cache, activation_cache = cache\n",
        "\n",
        "  if activation == \"relu\":\n",
        "    dZ = relu_backward(dA, activation_cache)\n",
        "    dA_prev, dW, db = linear_backward(dZ, linear_cache)\n",
        "        \n",
        "  elif activation == \"sigmoid\":\n",
        "    dZ = sigmoid_backward(dA, activation_cache)\n",
        "    dA_prev, dW, db = linear_backward(dZ, linear_cache)\n",
        "    \n",
        "  return dA_prev, dW, db\n"
      ],
      "execution_count": 0,
      "outputs": []
    },
    {
      "cell_type": "code",
      "metadata": {
        "id": "fSZcZk2z_yzE",
        "colab_type": "code",
        "colab": {}
      },
      "source": [
        "def model_backward(AL, Y, caches):\n",
        "\n",
        "  grads = {}\n",
        "  L = len(caches)\n",
        "  m = AL.shape[1]\n",
        "  Y = Y.reshape(AL.shape)\n",
        "    \n",
        "  dAL = - (np.divide(Y, AL) - np.divide(1 - Y, 1 - AL))\n",
        "    \n",
        "  current_cache = caches[-1]\n",
        "  grads[\"dA\" + str(L-1)], grads[\"dW\" + str(L)], grads[\"db\" + str(L)] = linear_backward(sigmoid_backward(dAL, current_cache[1]), \n",
        "                                                                                       current_cache[0])\n",
        "  for l in reversed(range(L-1)):\n",
        "      current_cache = caches[l]\n",
        "      dA_prev_temp, dW_temp, db_temp = linear_backward(sigmoid_backward(dAL, current_cache[1]), current_cache[0])\n",
        "      grads[\"dA\" + str(l)] = dA_prev_temp\n",
        "      grads[\"dW\" + str(l + 1)] = dW_temp\n",
        "      grads[\"db\" + str(l)] = db_temp\n",
        "\n",
        "  return grads"
      ],
      "execution_count": 0,
      "outputs": []
    },
    {
      "cell_type": "markdown",
      "metadata": {
        "id": "qrDRtfKmAi-T",
        "colab_type": "text"
      },
      "source": [
        "# **UPDATING WEIGHTS AND BIAS**"
      ]
    },
    {
      "cell_type": "code",
      "metadata": {
        "id": "Wcyz2gjFAUj1",
        "colab_type": "code",
        "colab": {}
      },
      "source": [
        "def update_parameters(parameters, grads, learning_rate):\n",
        "\n",
        "  L = len(parameters) // 2\n",
        "\n",
        "  for l in range(L):\n",
        "    parameters[\"W\" + str(l+1)] = parameters[\"W\" + str(l + 1)] - learning_rate * grads[\"dW\" + str(l + 1)]\n",
        "    parameters[\"b\" + str(l+1)] = parameters[\"b\" + str(l + 1)] - learning_rate * grads[\"db\" + str(l + 1)]\n",
        "  \n",
        "  return parameters"
      ],
      "execution_count": 0,
      "outputs": []
    }
  ]
}