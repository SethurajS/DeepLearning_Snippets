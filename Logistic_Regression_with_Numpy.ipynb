{
  "nbformat": 4,
  "nbformat_minor": 0,
  "metadata": {
    "colab": {
      "name": "Logistic_Regression_with_Numpy.ipynb",
      "provenance": [],
      "collapsed_sections": [],
      "authorship_tag": "ABX9TyMCx7WnoNEPHE/kSfuvHaOJ",
      "include_colab_link": true
    },
    "kernelspec": {
      "name": "python3",
      "display_name": "Python 3"
    }
  },
  "cells": [
    {
      "cell_type": "markdown",
      "metadata": {
        "id": "view-in-github",
        "colab_type": "text"
      },
      "source": [
        "<a href=\"https://colab.research.google.com/github/SethurajS/DeepLearning_Snippets/blob/master/Logistic_Regression_with_Numpy.ipynb\" target=\"_parent\"><img src=\"https://colab.research.google.com/assets/colab-badge.svg\" alt=\"Open In Colab\"/></a>"
      ]
    },
    {
      "cell_type": "markdown",
      "metadata": {
        "id": "IGYfAo0RcMRc",
        "colab_type": "text"
      },
      "source": [
        "# **IMPORTING THE REQUIREMENTS**"
      ]
    },
    {
      "cell_type": "code",
      "metadata": {
        "id": "98moCjbUcOEr",
        "colab_type": "code",
        "outputId": "960afbd0-f751-4d89-a51e-c9e507a1f9c7",
        "colab": {
          "base_uri": "https://localhost:8080/",
          "height": 34
        }
      },
      "source": [
        "import numpy as np\n",
        "import matplotlib.pyplot as plt\n",
        "import h5py\n",
        "import scipy as sp\n",
        "from PIL import Image\n",
        "from scipy import ndimage\n",
        "\n",
        "print(\"Numpy : {}\".format(np.__version__))"
      ],
      "execution_count": 8,
      "outputs": [
        {
          "output_type": "stream",
          "text": [
            "Numpy : 1.18.4\n"
          ],
          "name": "stdout"
        }
      ]
    },
    {
      "cell_type": "markdown",
      "metadata": {
        "id": "0lHH2ecQeQn7",
        "colab_type": "text"
      },
      "source": [
        "# **IMPORTING THE DATASETS**"
      ]
    },
    {
      "cell_type": "code",
      "metadata": {
        "id": "i4a5P12-iWd8",
        "colab_type": "code",
        "outputId": "3032a79b-3c5a-400f-cf1d-9cafddec8c5d",
        "colab": {
          "resources": {
            "http://localhost:8080/nbextensions/google.colab/files.js": {
              "data": "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",
              "ok": true,
              "headers": [
                [
                  "content-type",
                  "application/javascript"
                ]
              ],
              "status": 200,
              "status_text": ""
            }
          },
          "base_uri": "https://localhost:8080/",
          "height": 108
        }
      },
      "source": [
        "from google.colab import files\n",
        "datasets = files.upload()"
      ],
      "execution_count": 10,
      "outputs": [
        {
          "output_type": "display_data",
          "data": {
            "text/html": [
              "\n",
              "     <input type=\"file\" id=\"files-1631d82f-6465-45a0-8d97-694761414e45\" name=\"files[]\" multiple disabled />\n",
              "     <output id=\"result-1631d82f-6465-45a0-8d97-694761414e45\">\n",
              "      Upload widget is only available when the cell has been executed in the\n",
              "      current browser session. Please rerun this cell to enable.\n",
              "      </output>\n",
              "      <script src=\"/nbextensions/google.colab/files.js\"></script> "
            ],
            "text/plain": [
              "<IPython.core.display.HTML object>"
            ]
          },
          "metadata": {
            "tags": []
          }
        },
        {
          "output_type": "stream",
          "text": [
            "Saving train_catvnoncat.h5 to train_catvnoncat.h5\n",
            "Saving test_catvnoncat.h5 to test_catvnoncat.h5\n"
          ],
          "name": "stdout"
        }
      ]
    },
    {
      "cell_type": "code",
      "metadata": {
        "id": "gTWBblvEdQa9",
        "colab_type": "code",
        "colab": {}
      },
      "source": [
        "def load_data():\n",
        "  \n",
        "  train_data = h5py.File('train_catvnoncat.h5', \"r\")\n",
        "  train_data_x = np.array(train_data[\"train_set_x\"][:])\n",
        "  train_data_y = np.array(train_data[\"train_set_y\"][:])\n",
        "\n",
        "  test_data = h5py.File('test_catvnoncat.h5', \"r\")\n",
        "  test_data_x = np.array(test_data[\"test_set_x\"][:])\n",
        "  test_data_y = np.array(test_data[\"test_set_y\"][:])\n",
        "\n",
        "  classes = np.array(train_data[\"list_classes\"][:])\n",
        "\n",
        "  train_data_y = train_data_y.reshape((1, train_data_y.shape[0]))\n",
        "  test_data_y = test_data_y.reshape((1, test_data_y.shape[0]))\n",
        "\n",
        "  # print(train_data_x.shape)\n",
        "  # print(test_data_x.shape)\n",
        "  # print(train_data_y.shape)\n",
        "  # print(test_data_y.shape)\n",
        "\n",
        "  return train_data_x, train_data_y, test_data_x, test_data_y, classes\n"
      ],
      "execution_count": 0,
      "outputs": []
    },
    {
      "cell_type": "code",
      "metadata": {
        "id": "2c-7OH67f1Nk",
        "colab_type": "code",
        "colab": {}
      },
      "source": [
        "train_data_x, train_data_y, test_data_x, test_data_y, classes = load_data()"
      ],
      "execution_count": 0,
      "outputs": []
    },
    {
      "cell_type": "code",
      "metadata": {
        "id": "M7AUB-0yz6Np",
        "colab_type": "code",
        "colab": {
          "base_uri": "https://localhost:8080/",
          "height": 118
        },
        "outputId": "f55a5d75-8201-4364-869d-36f4029c637b"
      },
      "source": [
        "print(\"Train data size : {}\".format(train_data_x.shape[0]))\n",
        "print(\"Test data size : {}\".format(test_data_x.shape[0]))\n",
        "print(\"Train Features Shape : {}\".format(train_data_x.shape))\n",
        "print(\"Test Features Shape : {}\".format(test_data_x.shape))\n",
        "print(\"Train Labels Shape : {}\".format(train_data_y.shape))\n",
        "print(\"Test Labels Shape : {}\".format(test_data_y.shape))"
      ],
      "execution_count": 39,
      "outputs": [
        {
          "output_type": "stream",
          "text": [
            "Train data size : 209\n",
            "Test data size : 50\n",
            "Train Features Shape : (209, 64, 64, 3)\n",
            "Test Features Shape : (50, 64, 64, 3)\n",
            "Train Labels Shape : (1, 209)\n",
            "Test Labels Shape : (1, 50)\n"
          ],
          "name": "stdout"
        }
      ]
    },
    {
      "cell_type": "code",
      "metadata": {
        "id": "1Mu4o7Shxxt-",
        "colab_type": "code",
        "colab": {
          "base_uri": "https://localhost:8080/",
          "height": 298
        },
        "outputId": "1f1da7a5-15cc-415f-ca4f-ec245aac5fae"
      },
      "source": [
        "index = 10\n",
        "plt.imshow(train_data_x[index])\n",
        "plt.title(\"Class : \"+classes[np.squeeze(train_data_y[:, index])].decode(\"utf-8\"))"
      ],
      "execution_count": 40,
      "outputs": [
        {
          "output_type": "execute_result",
          "data": {
            "text/plain": [
              "Text(0.5, 1.0, 'Class : non-cat')"
            ]
          },
          "metadata": {
            "tags": []
          },
          "execution_count": 40
        },
        {
          "output_type": "display_data",
          "data": {
            "image/png": "[encoded data removed]",
            "text/plain": [
              "<Figure size 432x288 with 1 Axes>"
            ]
          },
          "metadata": {
            "tags": [],
            "needs_background": "light"
          }
        }
      ]
    },
    {
      "cell_type": "markdown",
      "metadata": {
        "id": "iX-AMrF80-94",
        "colab_type": "text"
      },
      "source": [
        "# **PREPROCESSING THE DATASETS**"
      ]
    },
    {
      "cell_type": "markdown",
      "metadata": {
        "id": "qZR7oveU1Xm7",
        "colab_type": "text"
      },
      "source": [
        "FLATTENING THE **FEATURES**"
      ]
    },
    {
      "cell_type": "code",
      "metadata": {
        "id": "Abh9Tum50_Do",
        "colab_type": "code",
        "colab": {
          "base_uri": "https://localhost:8080/",
          "height": 50
        },
        "outputId": "f7e71c2c-82d9-4a16-bedf-6f2017b0bde9"
      },
      "source": [
        "train_data_x = train_data_x.reshape(train_data_x.shape[0], -1).T\n",
        "test_data_x = test_data_x.reshape(test_data_x.shape[0], -1).T\n",
        "\n",
        "print(train_data_x.shape)\n",
        "print(test_data_x.shape)"
      ],
      "execution_count": 91,
      "outputs": [
        {
          "output_type": "stream",
          "text": [
            "(12288, 209)\n",
            "(12288, 50)\n"
          ],
          "name": "stdout"
        }
      ]
    },
    {
      "cell_type": "markdown",
      "metadata": {
        "id": "DAAuEFQy0q15",
        "colab_type": "text"
      },
      "source": [
        "**NORMALIZING THE DATASET**"
      ]
    },
    {
      "cell_type": "code",
      "metadata": {
        "id": "ioqyQzx80urq",
        "colab_type": "code",
        "colab": {}
      },
      "source": [
        "train_data_x = train_data_x/255.0\n",
        "test_data_x = test_data_x/255.0"
      ],
      "execution_count": 0,
      "outputs": []
    },
    {
      "cell_type": "markdown",
      "metadata": {
        "id": "qOh73Bej2Ht7",
        "colab_type": "text"
      },
      "source": [
        "# **BUILDING THE LOGISTIC REGRESSION MODEL**"
      ]
    },
    {
      "cell_type": "markdown",
      "metadata": {
        "id": "moOiprjw2Pub",
        "colab_type": "text"
      },
      "source": [
        "**SIGMOID FUNCTION**"
      ]
    },
    {
      "cell_type": "code",
      "metadata": {
        "id": "EzcyPDND2Obw",
        "colab_type": "code",
        "colab": {}
      },
      "source": [
        "def sigmoid(Z):\n",
        "  \n",
        "  \"\"\" Sigmoid function \"\"\"\n",
        "\n",
        "  A = 1/(1+np.exp(-Z))\n",
        "\n",
        "  return A\n"
      ],
      "execution_count": 0,
      "outputs": []
    },
    {
      "cell_type": "code",
      "metadata": {
        "id": "pdmoH5kl9fM5",
        "colab_type": "code",
        "colab": {
          "base_uri": "https://localhost:8080/",
          "height": 34
        },
        "outputId": "0acd96b2-bd4a-4444-e63a-e481806f0e97"
      },
      "source": [
        "\"\"\" Checking the function 'sigmoid' \"\"\"\n",
        "\n",
        "print (\"sigmoid(2, 10) = {}\".format(str(sigmoid(np.array([2,10])))))"
      ],
      "execution_count": 62,
      "outputs": [
        {
          "output_type": "stream",
          "text": [
            "sigmoid(2, 10) = [0.88079708 0.9999546 ]\n"
          ],
          "name": "stdout"
        }
      ]
    },
    {
      "cell_type": "markdown",
      "metadata": {
        "id": "aGo0Z4e93XHi",
        "colab_type": "text"
      },
      "source": [
        "**PARAMETER INITIALIZATION**"
      ]
    },
    {
      "cell_type": "code",
      "metadata": {
        "id": "sPra90et3XRY",
        "colab_type": "code",
        "colab": {}
      },
      "source": [
        "def parameter_initialization(dim):\n",
        "\n",
        "  \"\"\" Initialize weights and bias to zero \"\"\"\n",
        "\n",
        "  weights = np.zeros((dim, 1))\n",
        "  bias = 0\n",
        "\n",
        "  return weights, bias\n"
      ],
      "execution_count": 0,
      "outputs": []
    },
    {
      "cell_type": "code",
      "metadata": {
        "id": "cv9HvWEG9T4Q",
        "colab_type": "code",
        "colab": {
          "base_uri": "https://localhost:8080/",
          "height": 67
        },
        "outputId": "260449b7-3920-471d-b9cb-9e632147b5f8"
      },
      "source": [
        "\"\"\" Checking the function 'parameter_initialization' \"\"\"\n",
        "\n",
        "weights, bias = parameter_initialization(2)\n",
        "print(\"Weights : {}\\n Bias : {}\".format(weights, bias))"
      ],
      "execution_count": 60,
      "outputs": [
        {
          "output_type": "stream",
          "text": [
            "Weights : [[0.]\n",
            " [0.]]\n",
            " Bias : 0\n"
          ],
          "name": "stdout"
        }
      ]
    },
    {
      "cell_type": "markdown",
      "metadata": {
        "id": "ZrTFgeNf5y9S",
        "colab_type": "text"
      },
      "source": [
        "**FROWARD AND BACKWARD PROPAGATION**"
      ]
    },
    {
      "cell_type": "code",
      "metadata": {
        "id": "0aLbtVMV437n",
        "colab_type": "code",
        "colab": {}
      },
      "source": [
        "def propagate(w, b, X, Y):\n",
        "\n",
        "  m = X.shape[1]\n",
        "\n",
        "  \"\"\" Computing SIGMOID of the linear function \"\"\"\n",
        "\n",
        "  A = sigmoid(np.dot(w.T, X) + b)\n",
        "\n",
        "  \"\"\" Computing the COST \"\"\"\n",
        "\n",
        "  cost = -1 * np.mean(np.multiply(Y, np.log(A)) + np.multiply(1-Y, np.log(1-A)), axis=1)\n",
        "\n",
        "  \"\"\" Updation in LOSS when changing the WEIGHTS \"\"\"\n",
        "\n",
        "  dw = np.dot(X, np.transpose(A-Y))*(1/m)\n",
        "\n",
        "  \"\"\" Updation in LOSS when changing the BIAS \"\"\"\n",
        "\n",
        "  db = np.mean((A-Y))\n",
        "\n",
        "\n",
        "  effects = {\n",
        "      \"dw\" : dw,\n",
        "      \"db\" : db\n",
        "  }\n",
        "\n",
        "  return effects, cost"
      ],
      "execution_count": 0,
      "outputs": []
    },
    {
      "cell_type": "code",
      "metadata": {
        "id": "rjXeEuwc828z",
        "colab_type": "code",
        "colab": {
          "base_uri": "https://localhost:8080/",
          "height": 84
        },
        "outputId": "96688d60-ec4a-4235-efe6-4ad6436c347e"
      },
      "source": [
        "\"\"\" Checking the function 'propagate' \"\"\"\n",
        "\n",
        "w, b, X, Y = np.array([[1.],[2.]]), 2., np.array([[1.,2.,-1.],[3.,4.,-3.2]]), np.array([[1,0,1]])\n",
        "effects, cost = propagate(w, b, X, Y)\n",
        "print (\"dw = \" + str(effects[\"dw\"]))\n",
        "print (\"db = \" + str(effects[\"db\"]))\n",
        "print (\"cost = \" + str(cost))"
      ],
      "execution_count": 58,
      "outputs": [
        {
          "output_type": "stream",
          "text": [
            "dw = [[0.99845601]\n",
            " [2.39507239]]\n",
            "db = 0.001455578136784208\n",
            "cost = [5.80154532]\n"
          ],
          "name": "stdout"
        }
      ]
    },
    {
      "cell_type": "markdown",
      "metadata": {
        "id": "-PDLKP239uJh",
        "colab_type": "text"
      },
      "source": [
        "**OPTIMIZATION**"
      ]
    },
    {
      "cell_type": "code",
      "metadata": {
        "id": "K7YborPU9FaT",
        "colab_type": "code",
        "colab": {}
      },
      "source": [
        "def optimize(w, b, X, Y, num_iterations, learning_rate, print_cost = False):\n",
        "\n",
        "  costs = []\n",
        "\n",
        "  for i in range(num_iterations):\n",
        "\n",
        "    effects, cost = propagate(w, b, X, Y)\n",
        "\n",
        "    dw = effects[\"dw\"]\n",
        "    db = effects[\"db\"]\n",
        "\n",
        "    \"\"\" Updating the weights and biases \"\"\"\n",
        "\n",
        "    w = w - learning_rate * dw\n",
        "    b = b - learning_rate * db\n",
        "\n",
        "    if i % 100 == 0:\n",
        "\n",
        "      costs.append(cost)\n",
        "\n",
        "    if print_cost and i % 100 == 0:\n",
        "\n",
        "      print(\"Epoch: {} ----> Cost: {}\".format(i, cost))\n",
        "\n",
        "  parms = {\n",
        "      \"w\" : w,\n",
        "      \"b\" : b\n",
        "  }\n",
        "\n",
        "  return parms, effects, costs\n",
        "\n"
      ],
      "execution_count": 0,
      "outputs": []
    },
    {
      "cell_type": "code",
      "metadata": {
        "id": "i2UDME5eBMYx",
        "colab_type": "code",
        "colab": {
          "base_uri": "https://localhost:8080/",
          "height": 118
        },
        "outputId": "62ffe91b-fb50-495c-95b2-0e540e54f7d7"
      },
      "source": [
        "\"\"\" Checking the function 'optimize' \"\"\"\n",
        "\n",
        "params, effects, costs = optimize(w, b, X, Y, num_iterations= 100, learning_rate = 0.009, print_cost = False)\n",
        "\n",
        "print (\"w = \" + str(params[\"w\"]))\n",
        "print (\"b = \" + str(params[\"b\"]))\n",
        "print (\"dw = \" + str(effects[\"dw\"]))\n",
        "print (\"db = \" + str(effects[\"db\"]))"
      ],
      "execution_count": 77,
      "outputs": [
        {
          "output_type": "stream",
          "text": [
            "w = [[0.19033591]\n",
            " [0.12259159]]\n",
            "b = 1.9253598300845747\n",
            "dw = [[0.67752042]\n",
            " [1.41625495]]\n",
            "db = 0.21919450454067657\n"
          ],
          "name": "stdout"
        }
      ]
    },
    {
      "cell_type": "markdown",
      "metadata": {
        "id": "95a8zRH-D-Qp",
        "colab_type": "text"
      },
      "source": [
        "# **PREDICT**"
      ]
    },
    {
      "cell_type": "code",
      "metadata": {
        "id": "w7gNIm1UBcsC",
        "colab_type": "code",
        "colab": {}
      },
      "source": [
        "def predict(w, b, X):\n",
        "\n",
        "  m = X.shape[1]\n",
        "  prediction = np.zeros((1, m))\n",
        "  w = w.reshape(X.shape[0], 1)\n",
        "\n",
        "  A = sigmoid(np.dot(w.T, X) + b)\n",
        "\n",
        "  for i in range(A.shape[1]):\n",
        "\n",
        "    if A[0, i] >= 0.5:\n",
        "      prediction[0, i] = 1\n",
        "    else:\n",
        "      prediction[0, i] = 0\n",
        "\n",
        "  return prediction\n"
      ],
      "execution_count": 0,
      "outputs": []
    },
    {
      "cell_type": "code",
      "metadata": {
        "id": "fM2YEj7rFrRY",
        "colab_type": "code",
        "colab": {
          "base_uri": "https://localhost:8080/",
          "height": 34
        },
        "outputId": "a8257cc0-c59a-4c22-cec2-1fd939c56d33"
      },
      "source": [
        "\"\"\" Checking the function 'predict' \"\"\"\n",
        "\n",
        "w = np.array([[0.1124579],[0.23106775]])\n",
        "b = -0.3\n",
        "X = np.array([[1.,-1.1,-3.2],[1.2,2.,0.1]])\n",
        "print (\"predictions = \" + str(predict(w, b, X)))"
      ],
      "execution_count": 83,
      "outputs": [
        {
          "output_type": "stream",
          "text": [
            "predictions = [[1. 1. 0.]]\n"
          ],
          "name": "stdout"
        }
      ]
    },
    {
      "cell_type": "markdown",
      "metadata": {
        "id": "XYuMqv4hGn-q",
        "colab_type": "text"
      },
      "source": [
        "# **LOGISTIC REGRESSION MODEL** [ Merging all the methods into the model ]"
      ]
    },
    {
      "cell_type": "code",
      "metadata": {
        "id": "qNioZhfZFv2a",
        "colab_type": "code",
        "colab": {}
      },
      "source": [
        "def model(X_train, Y_train, X_test, Y_test, num_iterations = 2000, learning_rate = 0.5, print_cost = False):\n",
        "\n",
        "  w, b = parameter_initialization(X_train.shape[0])\n",
        "\n",
        "  parameters, effects, costs = optimize(w, b, X_train, Y_train, num_iterations, learning_rate, print_cost)\n",
        "\n",
        "  w = parameters[\"w\"]\n",
        "  b = parameters[\"b\"]\n",
        "\n",
        "  prediction_test = predict(w, b, X_test)\n",
        "  prediction_train = predict(w, b, X_train)\n",
        "\n",
        "  print(\"train accuracy: {} %\".format(100 - np.mean(np.abs(prediction_train - Y_train)) * 100))\n",
        "  print(\"test accuracy: {} %\".format(100 - np.mean(np.abs(prediction_test - Y_test)) * 100))\n",
        "\n",
        "  returns = {\n",
        "      \"costs\" : costs,\n",
        "      \"prediction_test\" : prediction_test,\n",
        "      \"prediction_train\" : prediction_train,\n",
        "      \"w\" : w,\n",
        "      \"b\" : b,\n",
        "      \"learning_rate\" : learning_rate,\n",
        "      \"num_iterations\" : num_iterations\n",
        "  }\n",
        "\n",
        "  return returns"
      ],
      "execution_count": 0,
      "outputs": []
    },
    {
      "cell_type": "markdown",
      "metadata": {
        "id": "P6gYkDGKIbYY",
        "colab_type": "text"
      },
      "source": [
        "# **PREDICTION**"
      ]
    },
    {
      "cell_type": "code",
      "metadata": {
        "id": "kPZg5GnkIbe9",
        "colab_type": "code",
        "colab": {
          "base_uri": "https://localhost:8080/",
          "height": 386
        },
        "outputId": "090e39ef-4d67-4ec9-e8ff-ebf69e6efef0"
      },
      "source": [
        "logistic_regression = model(train_data_x, train_data_y, test_data_x, test_data_y, num_iterations = 2000, learning_rate = 0.005, print_cost = True)\n",
        "\n",
        "# print(logistic_regression)"
      ],
      "execution_count": 95,
      "outputs": [
        {
          "output_type": "stream",
          "text": [
            "Epoch: 0 ----> Cost: [0.69314718]\n",
            "Epoch: 100 ----> Cost: [0.58450836]\n",
            "Epoch: 200 ----> Cost: [0.46694904]\n",
            "Epoch: 300 ----> Cost: [0.37600687]\n",
            "Epoch: 400 ----> Cost: [0.33146329]\n",
            "Epoch: 500 ----> Cost: [0.30327307]\n",
            "Epoch: 600 ----> Cost: [0.27987959]\n",
            "Epoch: 700 ----> Cost: [0.26004214]\n",
            "Epoch: 800 ----> Cost: [0.24294068]\n",
            "Epoch: 900 ----> Cost: [0.22800422]\n",
            "Epoch: 1000 ----> Cost: [0.21481951]\n",
            "Epoch: 1100 ----> Cost: [0.20307819]\n",
            "Epoch: 1200 ----> Cost: [0.19254428]\n",
            "Epoch: 1300 ----> Cost: [0.18303334]\n",
            "Epoch: 1400 ----> Cost: [0.17439859]\n",
            "Epoch: 1500 ----> Cost: [0.1665214]\n",
            "Epoch: 1600 ----> Cost: [0.15930452]\n",
            "Epoch: 1700 ----> Cost: [0.15266732]\n",
            "Epoch: 1800 ----> Cost: [0.14654224]\n",
            "Epoch: 1900 ----> Cost: [0.14087208]\n",
            "train accuracy: 99.04306220095694 %\n",
            "test accuracy: 70.0 %\n"
          ],
          "name": "stdout"
        }
      ]
    }
  ]
}